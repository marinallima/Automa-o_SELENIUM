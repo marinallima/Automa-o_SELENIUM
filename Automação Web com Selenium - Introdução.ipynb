{
 "cells": [
  {
   "cell_type": "markdown",
   "id": "cb5d2247",
   "metadata": {},
   "source": [
    "# Automação Web com Selenium\n",
    "\n",
    "## Python + Selenium\n",
    "\n",
    "2 requisitos:\n",
    "\n",
    "Instalar o Selenium\n",
    "Webdriver Manager"
   ]
  },
  {
   "cell_type": "code",
   "execution_count": 1,
   "id": "94c95099",
   "metadata": {},
   "outputs": [
    {
     "name": "stderr",
     "output_type": "stream",
     "text": [
      "[WDM] - Downloading: 100%|████████████████████████████████████████████████████████| 6.79M/6.79M [00:00<00:00, 8.72MB/s]\n"
     ]
    }
   ],
   "source": [
    "from selenium import webdriver\n",
    "from webdriver_manager.chrome import ChromeDriverManager\n",
    "from selenium.webdriver.chrome.service import Service\n",
    "\n",
    "servico = Service(ChromeDriverManager().install())\n",
    "\n",
    "navegador = webdriver.Chrome(service=servico)"
   ]
  },
  {
   "cell_type": "code",
   "execution_count": 2,
   "id": "edc42915",
   "metadata": {},
   "outputs": [],
   "source": [
    "# Passo 1:\n",
    "navegador.get(\"https://pages.hashtagtreinamentos.com/inscricao-minicurso-python-automacao-org?origemurl=hashtag_yt_org_minipython_videoselenium\")"
   ]
  },
  {
   "cell_type": "code",
   "execution_count": 3,
   "id": "86d4f03a",
   "metadata": {},
   "outputs": [],
   "source": [
    "# Passo 2:\n",
    "navegador.find_element('xpath', \n",
    "                       '//*[@id=\"section-10356508\"]/section/div[2]/div/div[2]/form/div[1]/div/div[1]/div/input').send_keys(\"Marina\")"
   ]
  },
  {
   "cell_type": "code",
   "execution_count": 4,
   "id": "15839740",
   "metadata": {},
   "outputs": [],
   "source": [
    "navegador.find_element('xpath', \n",
    "                       '//*[@id=\"section-10356508\"]/section/div[2]/div/div[2]/form/div[1]/div/div[2]/div/input').send_keys(\"lima.marinacosta@gmail.com\")"
   ]
  },
  {
   "cell_type": "code",
   "execution_count": 5,
   "id": "276be466",
   "metadata": {},
   "outputs": [],
   "source": [
    "navegador.find_element('xpath', \n",
    "                       '//*[@id=\"section-10356508\"]/section/div[2]/div/div[2]/form/div[1]/div/div[3]/div/input').send_keys(\"6234567897\")"
   ]
  },
  {
   "cell_type": "code",
   "execution_count": 6,
   "id": "1f030e5f",
   "metadata": {},
   "outputs": [],
   "source": [
    "# Passo 3:\n",
    "navegador.find_element('xpath', '//*[@id=\"section-10356508\"]/section/div[2]/div/div[2]/form/button').click()"
   ]
  },
  {
   "cell_type": "code",
   "execution_count": null,
   "id": "f662728d",
   "metadata": {},
   "outputs": [],
   "source": []
  }
 ],
 "metadata": {
  "kernelspec": {
   "display_name": "Python 3 (ipykernel)",
   "language": "python",
   "name": "python3"
  },
  "language_info": {
   "codemirror_mode": {
    "name": "ipython",
    "version": 3
   },
   "file_extension": ".py",
   "mimetype": "text/x-python",
   "name": "python",
   "nbconvert_exporter": "python",
   "pygments_lexer": "ipython3",
   "version": "3.9.13"
  }
 },
 "nbformat": 4,
 "nbformat_minor": 5
}
